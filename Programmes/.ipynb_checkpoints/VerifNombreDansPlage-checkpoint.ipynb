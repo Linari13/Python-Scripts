{
 "cells": [
  {
   "cell_type": "code",
   "execution_count": null,
   "metadata": {},
   "outputs": [],
   "source": [
    "def VerifNombreDansPlage (Mini=0,Maxi=100,Guess):\n",
    "    \n",
    "    NumOk = False\n",
    "    \n",
    "    while NumOk = False(guess.isdigit()== False) or (1>int(guess) or int(guess)>100):\n",
    "        if guess.isdigit()== False:\n",
    "            guess = input ('Ceci n\\'est pas un nombre entier, réessayez : ')\n",
    "        elif 1>int(guess) or int(guess)>100:\n",
    "            guess = input(\"le chiffre doit être compris entre 1 et 100, réessayez : \")\n",
    "        else:\n",
    "            NumOk = True\n",
    "\n",
    "if __name__ == __main__:\n",
    "    VerifNombreDansPlage()"
   ]
  }
 ],
 "metadata": {
  "kernelspec": {
   "display_name": "Python 3",
   "language": "python",
   "name": "python3"
  },
  "language_info": {
   "codemirror_mode": {
    "name": "ipython",
    "version": 3
   },
   "file_extension": ".py",
   "mimetype": "text/x-python",
   "name": "python",
   "nbconvert_exporter": "python",
   "pygments_lexer": "ipython3",
   "version": "3.7.4"
  }
 },
 "nbformat": 4,
 "nbformat_minor": 2
}
