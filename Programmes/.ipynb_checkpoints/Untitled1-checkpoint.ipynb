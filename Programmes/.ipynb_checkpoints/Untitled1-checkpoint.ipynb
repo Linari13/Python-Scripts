{
 "cells": [
  {
   "cell_type": "code",
   "execution_count": null,
   "metadata": {},
   "outputs": [],
   "source": [
    "from random import *\n",
    "from VerifNombre import VerifNombreDansPlage\n",
    "\n",
    "#On récupère un entier aléatoire compris entre 1 et 100\n",
    "num = randint(1,101)\n",
    "#On fixe guess=0 (en dehors de la plage)\n",
    "guess = 0\n",
    "# Variable stockage coup précédent\n",
    "previous = 0\n",
    "#Initialisation Compteur coups\n",
    "NbCoups = 0\n",
    "\n",
    "while int(guess) != num:\n",
    "    previous = int(guess)\n",
    "    print(f'Num is{num}, Guess is {guess}, Previous is {previous}, Coups are {NbCoups}')    \n",
    "    #On demande le nombre et on vérifie si l'entrée est correcte\n",
    "    guess = input('Entrer un nombre entier et tapez Entrée : ')\n",
    "    \n",
    "    #VerifNombreDansPlage(guess,1,100)\n",
    "\n",
    "    NbCoups += 1\n",
    "    \n",
    "    if NbCoups == 1:\n",
    "        if (int(guess)-num)**2 <= 100:\n",
    "            print ('Warm')\n",
    "        else:\n",
    "            print ('Cold')\n",
    "    else:\n",
    "        if (int(guess)-num)<(previous-num):\n",
    "            print ('Warmer')\n",
    "        else:\n",
    "            print('Colder')\n",
    "                \n",
    "print (f'Bravo!\\nVous avez réussi en {NbCoups} coup(s)')"
   ]
  },
  {
   "cell_type": "code",
   "execution_count": null,
   "metadata": {},
   "outputs": [],
   "source": []
  }
 ],
 "metadata": {
  "kernelspec": {
   "display_name": "Python 3",
   "language": "python",
   "name": "python3"
  },
  "language_info": {
   "codemirror_mode": {
    "name": "ipython",
    "version": 3
   },
   "file_extension": ".py",
   "mimetype": "text/x-python",
   "name": "python",
   "nbconvert_exporter": "python",
   "pygments_lexer": "ipython3",
   "version": "3.7.4"
  }
 },
 "nbformat": 4,
 "nbformat_minor": 2
}
